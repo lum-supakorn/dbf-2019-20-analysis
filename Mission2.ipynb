{
 "cells": [
  {
   "cell_type": "code",
   "execution_count": 1,
   "metadata": {},
   "outputs": [],
   "source": [
    "import sympy as sym\n",
    "from scipy.constants import g\n",
    "import numpy as np"
   ]
  },
  {
   "cell_type": "code",
   "execution_count": 2,
   "metadata": {},
   "outputs": [],
   "source": [
    "# Number of passengers\n",
    "# Takeoff weight (equal to weight at cruise)\n",
    "W_TO_N = sym.symbols(\"W_TO\")\n",
    "v_cruise_M2_mps = sym.symbols(\"v^{M2}_{cruise}\")\n",
    "rho_cruise_kgpm3, CL_, S_wing_m2 = sym.symbols(\"rho_cruise C_L^{cruise} S_{wing}\")\n",
    "b_m, AR_ = sym.symbols(\"b AR\")\n",
    "S_wing_m2 = (b_m**2) / AR_\n",
    "W_TO_N = 0.5 * rho_cruise_kgpm3 * (v_cruise_M2_mps ** 2) * CL_ * S_wing_m2\n",
    "MF_empty_ = sym.symbols(\"MF_empty\")\n",
    "\n",
    "m_unit_payload_oz = 5 # By rule\n",
    "m_unit_payload_kg = m_unit_payload_oz * 0.0283495\n",
    "W_unit_payload_N = m_unit_payload_kg * g\n",
    "\n",
    "n_pass_ = (W_TO_N * (1 - MF_empty_)) / W_unit_payload_N\n",
    "\n",
    "# Lap time\n",
    "t_lap_M2_total_s = sym.symbols(\"t^M2_{lap, total}\")\n",
    "t_lap_M2_s = sym.symbols(\"t^{M2}_{lap}\")\n",
    "\n",
    "theta_rad, psi_dot_M2_radps = sym.symbols(\"theta \\dot{\\psi}_{M2}\")\n",
    "d_m = sym.symbols(\"d\")\n",
    "\n",
    "A_n_ = sym.symbols(\"A_n\")\n",
    "psi_dot_M2_radps = g * sym.sqrt((A_n_ ** 2) - 1) / v_cruise_M2_mps\n",
    "\n",
    "t_lap_M2_s = (theta_rad / psi_dot_M2_radps) + (d_m / v_cruise_M2_mps)\n",
    "t_lap_M2_total_s = 3 * t_lap_M2_s\n",
    "\n",
    "M2_score_ = n_pass_ / t_lap_M2_total_s"
   ]
  },
  {
   "cell_type": "code",
   "execution_count": 3,
   "metadata": {},
   "outputs": [
    {
     "data": {
      "text/latex": [
       "$\\displaystyle \\frac{0.359694602366154 C_L^{cruise} b^{2} \\rho_{cruise} \\left(v^{M2}_{cruise}\\right)^{2} \\left(1 - MF_{empty}\\right)}{AR \\left(\\frac{3 d}{v^{M2}_{cruise}} + \\frac{0.305914863893379 \\theta v^{M2}_{cruise}}{\\sqrt{A_{n}^{2} - 1}}\\right)}$"
      ],
      "text/plain": [
       "0.359694602366154*C_L^{cruise}*b**2*rho_cruise*v^{M2}_{cruise}**2*(1 - MF_empty)/(AR*(3*d/v^{M2}_{cruise} + 0.305914863893379*theta*v^{M2}_{cruise}/sqrt(A_n**2 - 1)))"
      ]
     },
     "metadata": {},
     "output_type": "display_data"
    }
   ],
   "source": [
    "display(M2_score_)"
   ]
  },
  {
   "cell_type": "code",
   "execution_count": 4,
   "metadata": {},
   "outputs": [
    {
     "data": {
      "text/plain": [
       "{AR, A_n, C_L^{cruise}, MF_empty, b, d, rho_cruise, theta, v^{M2}_{cruise}}"
      ]
     },
     "execution_count": 4,
     "metadata": {},
     "output_type": "execute_result"
    }
   ],
   "source": [
    "M2_score_.free_symbols"
   ]
  },
  {
   "cell_type": "code",
   "execution_count": 5,
   "metadata": {},
   "outputs": [],
   "source": [
    "all_params = {\n",
    "    # Parameters\n",
    "    \"AR\": np.arange(3, 10 + 0.5, 0.5),\n",
    "    \"A_n\": np.arange(2.5, 9 + 0.5, 0.5),\n",
    "    \"C_L^{cruise}\": np.arange(0.3, 0.8, 0.1),\n",
    "    \"MF_empty\": np.arange(0.20, 0.35 + 0.05, 0.05),\n",
    "    \"b\": np.arange(0.5, 1.5 + 0.5, 0.5),\n",
    "    \"v^{M2}_{cruise}\": np.arange(15, 25 + 1),\n",
    "    \n",
    "    # Constants\n",
    "    \"rho_cruise\": [1.225],\n",
    "    \"theta\": [4 * np.pi],\n",
    "    \"d\": [610],\n",
    "}"
   ]
  },
  {
   "cell_type": "code",
   "execution_count": 6,
   "metadata": {},
   "outputs": [],
   "source": [
    "from subs_generator import generate, calculate\n",
    "all_subs = generate(all_params)"
   ]
  },
  {
   "cell_type": "code",
   "execution_count": 7,
   "metadata": {},
   "outputs": [
    {
     "data": {
      "text/plain": [
       "138600"
      ]
     },
     "execution_count": 7,
     "metadata": {},
     "output_type": "execute_result"
    }
   ],
   "source": [
    "len(all_subs)"
   ]
  },
  {
   "cell_type": "code",
   "execution_count": 8,
   "metadata": {},
   "outputs": [
    {
     "name": "stdout",
     "output_type": "stream",
     "text": [
      "138599/138600\t100.00%\n",
      "Sorting...\n"
     ]
    }
   ],
   "source": [
    "all_calc = calculate(M2_score_, all_subs)"
   ]
  },
  {
   "cell_type": "code",
   "execution_count": 9,
   "metadata": {},
   "outputs": [
    {
     "data": {
      "text/plain": [
       "[{'AR': 3.0,\n",
       "  'A_n': 9.0,\n",
       "  'C_L^{cruise}': 0.7000000000000002,\n",
       "  'MF_empty': 0.2,\n",
       "  'b': 1.5,\n",
       "  'v^{M2}_{cruise}': 25,\n",
       "  'rho_cruise': 1.225,\n",
       "  'theta': 12.566370614359172,\n",
       "  'd': 610,\n",
       "  'total': 1.37785845911486},\n",
       " {'AR': 3.0,\n",
       "  'A_n': 8.5,\n",
       "  'C_L^{cruise}': 0.7000000000000002,\n",
       "  'MF_empty': 0.2,\n",
       "  'b': 1.5,\n",
       "  'v^{M2}_{cruise}': 25,\n",
       "  'rho_cruise': 1.225,\n",
       "  'theta': 12.566370614359172,\n",
       "  'd': 610,\n",
       "  'total': 1.36742211977761},\n",
       " {'AR': 3.0,\n",
       "  'A_n': 8.0,\n",
       "  'C_L^{cruise}': 0.7000000000000002,\n",
       "  'MF_empty': 0.2,\n",
       "  'b': 1.5,\n",
       "  'v^{M2}_{cruise}': 25,\n",
       "  'rho_cruise': 1.225,\n",
       "  'theta': 12.566370614359172,\n",
       "  'd': 610,\n",
       "  'total': 1.35584003911867},\n",
       " {'AR': 3.0,\n",
       "  'A_n': 7.5,\n",
       "  'C_L^{cruise}': 0.7000000000000002,\n",
       "  'MF_empty': 0.2,\n",
       "  'b': 1.5,\n",
       "  'v^{M2}_{cruise}': 25,\n",
       "  'rho_cruise': 1.225,\n",
       "  'theta': 12.566370614359172,\n",
       "  'd': 610,\n",
       "  'total': 1.34291029690924},\n",
       " {'AR': 3.0,\n",
       "  'A_n': 7.0,\n",
       "  'C_L^{cruise}': 0.7000000000000002,\n",
       "  'MF_empty': 0.2,\n",
       "  'b': 1.5,\n",
       "  'v^{M2}_{cruise}': 25,\n",
       "  'rho_cruise': 1.225,\n",
       "  'theta': 12.566370614359172,\n",
       "  'd': 610,\n",
       "  'total': 1.32837982270208},\n",
       " {'AR': 3.0,\n",
       "  'A_n': 6.5,\n",
       "  'C_L^{cruise}': 0.7000000000000002,\n",
       "  'MF_empty': 0.2,\n",
       "  'b': 1.5,\n",
       "  'v^{M2}_{cruise}': 25,\n",
       "  'rho_cruise': 1.225,\n",
       "  'theta': 12.566370614359172,\n",
       "  'd': 610,\n",
       "  'total': 1.31192677887690},\n",
       " {'AR': 3.0,\n",
       "  'A_n': 6.0,\n",
       "  'C_L^{cruise}': 0.7000000000000002,\n",
       "  'MF_empty': 0.2,\n",
       "  'b': 1.5,\n",
       "  'v^{M2}_{cruise}': 25,\n",
       "  'rho_cruise': 1.225,\n",
       "  'theta': 12.566370614359172,\n",
       "  'd': 610,\n",
       "  'total': 1.29313493788016},\n",
       " {'AR': 3.0,\n",
       "  'A_n': 9.0,\n",
       "  'C_L^{cruise}': 0.7000000000000002,\n",
       "  'MF_empty': 0.25,\n",
       "  'b': 1.5,\n",
       "  'v^{M2}_{cruise}': 25,\n",
       "  'rho_cruise': 1.225,\n",
       "  'theta': 12.566370614359172,\n",
       "  'd': 610,\n",
       "  'total': 1.29174230542018},\n",
       " {'AR': 3.0,\n",
       "  'A_n': 8.5,\n",
       "  'C_L^{cruise}': 0.7000000000000002,\n",
       "  'MF_empty': 0.25,\n",
       "  'b': 1.5,\n",
       "  'v^{M2}_{cruise}': 25,\n",
       "  'rho_cruise': 1.225,\n",
       "  'theta': 12.566370614359172,\n",
       "  'd': 610,\n",
       "  'total': 1.28195823729151},\n",
       " {'AR': 3.0,\n",
       "  'A_n': 5.5,\n",
       "  'C_L^{cruise}': 0.7000000000000002,\n",
       "  'MF_empty': 0.2,\n",
       "  'b': 1.5,\n",
       "  'v^{M2}_{cruise}': 25,\n",
       "  'rho_cruise': 1.225,\n",
       "  'theta': 12.566370614359172,\n",
       "  'd': 610,\n",
       "  'total': 1.27145532540924}]"
      ]
     },
     "execution_count": 9,
     "metadata": {},
     "output_type": "execute_result"
    }
   ],
   "source": [
    "all_calc[:10]"
   ]
  },
  {
   "cell_type": "code",
   "execution_count": null,
   "metadata": {},
   "outputs": [],
   "source": []
  }
 ],
 "metadata": {
  "kernelspec": {
   "display_name": "Python 3",
   "language": "python",
   "name": "python3"
  },
  "language_info": {
   "codemirror_mode": {
    "name": "ipython",
    "version": 3
   },
   "file_extension": ".py",
   "mimetype": "text/x-python",
   "name": "python",
   "nbconvert_exporter": "python",
   "pygments_lexer": "ipython3",
   "version": "3.7.6"
  }
 },
 "nbformat": 4,
 "nbformat_minor": 4
}
