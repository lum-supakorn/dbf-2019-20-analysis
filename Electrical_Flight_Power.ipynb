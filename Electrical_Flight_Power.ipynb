{
 "cells": [
  {
   "cell_type": "code",
   "execution_count": 2,
   "metadata": {},
   "outputs": [],
   "source": [
    "import sympy as sym\n",
    "from numpy import pi\n",
    "from scipy.constants import g"
   ]
  },
  {
   "cell_type": "code",
   "execution_count": 3,
   "metadata": {},
   "outputs": [
    {
     "data": {
      "text/latex": [
       "$\\displaystyle \\frac{\\sqrt{2} \\sqrt{\\frac{W^{3}}{S \\rho}} \\left(\\frac{CDA_{0}}{C_{L}^{1.5} S} + \\frac{c_{d}}{C_{L}^{1.5}} + \\frac{0.318309886183791 C_{L}^{0.5}}{AR}\\right)}{\\eta_{m} \\eta_{p}}$"
      ],
      "text/plain": [
       "sqrt(2)*sqrt(W**3/(S*rho))*(CDA_0*C_L**(-1.5)/S + C_L**(-1.5)*c_d + 0.318309886183791*C_L**0.5/AR)/(eta_m*eta_p)"
      ]
     },
     "metadata": {},
     "output_type": "display_data"
    }
   ],
   "source": [
    "# Electrical Flight Power\n",
    "P_elec_J = sym.symbols(\"P_elec\")\n",
    "eta_p_, eta_m_ = sym.symbols(\"eta_p eta_m\")\n",
    "W_N, rho_kgpm3, S_m2 = sym.symbols(\"W rho S\")\n",
    "CDA0_m2, CL_, cd_, AR_ = sym.symbols(\"CDA_0 C_L c_d AR\")\n",
    "\n",
    "P_elec_J = (1 / (eta_m_ * eta_p_)) * sym.sqrt((2 * W_N**3) / (rho_kgpm3 * S_m2)) * \\\n",
    "            (((CDA0_m2 / S_m2) / (CL_ ** (3/2))) + \\\n",
    "            (cd_ / (CL_ ** (3/2))) + \\\n",
    "            ((CL_ ** (1/2))/(pi * AR_)))\n",
    "\n",
    "display(P_elec_J)"
   ]
  },
  {
   "cell_type": "code",
   "execution_count": 8,
   "metadata": {},
   "outputs": [
    {
     "data": {
      "text/latex": [
       "$\\displaystyle 380.555261391098$"
      ],
      "text/plain": [
       "380.555261391098"
      ]
     },
     "execution_count": 8,
     "metadata": {},
     "output_type": "execute_result"
    }
   ],
   "source": [
    "P_elec_J.subs({\n",
    "    W_N: 7.2 * g,\n",
    "    S_m2: 0.57,\n",
    "    rho_kgpm3: 1.225,\n",
    "    CDA0_m2: 0.01,\n",
    "    CL_: 0.8,\n",
    "    cd_: 0.04,\n",
    "    AR_: 4,\n",
    "    eta_m_: 0.8,\n",
    "    eta_p_: 0.5\n",
    "}).evalf()"
   ]
  }
 ],
 "metadata": {
  "kernelspec": {
   "display_name": "Python 3",
   "language": "python",
   "name": "python3"
  },
  "language_info": {
   "codemirror_mode": {
    "name": "ipython",
    "version": 3
   },
   "file_extension": ".py",
   "mimetype": "text/x-python",
   "name": "python",
   "nbconvert_exporter": "python",
   "pygments_lexer": "ipython3",
   "version": "3.7.6"
  }
 },
 "nbformat": 4,
 "nbformat_minor": 4
}
