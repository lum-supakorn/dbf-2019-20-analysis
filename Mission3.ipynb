{
 "cells": [
  {
   "cell_type": "code",
   "execution_count": 1,
   "metadata": {},
   "outputs": [],
   "source": [
    "import sympy as sym\n",
    "from scipy.constants import g\n",
    "import numpy as np"
   ]
  },
  {
   "cell_type": "code",
   "execution_count": 31,
   "metadata": {},
   "outputs": [
    {
     "data": {
      "text/latex": [
       "$\\displaystyle \\frac{0.5 b^{2} \\rho_{cruise} \\left(v^{M3}_{cruise}\\right)^{3} \\left(cd_{nonwing} + cd_{wing} + \\frac{0.318309886183791 \\left(C_L^{cruise}\\right)^{2}}{AR e}\\right)}{AR \\eta_{prop}}$"
      ],
      "text/plain": [
       "0.5*b**2*rho_cruise*v^{M3}_{cruise}**3*(cd_nonwing + cd_wing + 0.318309886183791*C_L^{cruise}**2/(AR*e))/(AR*\\eta_{prop})"
      ]
     },
     "execution_count": 31,
     "metadata": {},
     "output_type": "execute_result"
    }
   ],
   "source": [
    "# Maximum battery energy\n",
    "E_max_J = sym.symbols(\"E_max\") # 7.2e+8 J\n",
    "\n",
    "# Electrical power required\n",
    "eta_, rho_cruise_kgpm3, v_cruise_M3_mps, S_wing_m2, cd_nonwing_, cd_wing_, CL_, e_, AR_ = \\\n",
    "sym.symbols(\"\\eta_{prop} rho_cruise v^{M3}_{cruise} S_wing cd_nonwing cd_wing C_L^{cruise} e AR\")\n",
    "\n",
    "# Wing geometry\n",
    "b_m, AR_ = sym.symbols(\"b AR\")\n",
    "S_wing_m2 = (b_m**2) / AR_\n",
    "\n",
    "P_elec_W = (1/eta_) * (0.5 * rho_cruise_kgpm3 * (v_cruise_M3_mps**3)) * S_wing_m2 * \\\n",
    "            (cd_nonwing_ + cd_wing_ + ((CL_ ** 2)/(np.pi * e_ * AR_)))\n",
    "\n",
    "P_elec_W"
   ]
  },
  {
   "cell_type": "code",
   "execution_count": 32,
   "metadata": {},
   "outputs": [
    {
     "data": {
      "text/latex": [
       "$\\displaystyle \\frac{2.0 AR E_{max} \\eta_{prop}}{b^{2} \\rho_{cruise} \\left(v^{M3}_{cruise}\\right)^{3} \\left(cd_{nonwing} + cd_{wing} + \\frac{0.318309886183791 \\left(C_L^{cruise}\\right)^{2}}{AR e}\\right)}$"
      ],
      "text/plain": [
       "2.0*AR*E_max*\\eta_{prop}/(b**2*rho_cruise*v^{M3}_{cruise}**3*(cd_nonwing + cd_wing + 0.318309886183791*C_L^{cruise}**2/(AR*e)))"
      ]
     },
     "execution_count": 32,
     "metadata": {},
     "output_type": "execute_result"
    }
   ],
   "source": [
    "Endurance = E_max_J / P_elec_W\n",
    "Endurance"
   ]
  },
  {
   "cell_type": "code",
   "execution_count": 33,
   "metadata": {},
   "outputs": [
    {
     "data": {
      "text/latex": [
       "$\\displaystyle \\frac{d}{v^{M3}_{cruise}} + \\frac{0.101971621297793 \\theta v^{M3}_{cruise}}{\\sqrt{A_{n}^{2} - 1}}$"
      ],
      "text/plain": [
       "d/v^{M3}_{cruise} + 0.101971621297793*theta*v^{M3}_{cruise}/sqrt(A_n**2 - 1)"
      ]
     },
     "execution_count": 33,
     "metadata": {},
     "output_type": "execute_result"
    }
   ],
   "source": [
    "# lap time\n",
    "t_lap_M3_s = sym.symbols(\"t^{M3}_{lap}\")\n",
    "\n",
    "theta_rad, psi_dot_M3_radps = sym.symbols(\"theta \\dot{\\psi}_{M3}\")\n",
    "d_m = sym.symbols(\"d\")\n",
    "\n",
    "A_n_ = sym.symbols(\"A_n\")\n",
    "psi_dot_M3_radps = g * sym.sqrt((A_n_ ** 2) - 1) / v_cruise_M3_mps\n",
    "\n",
    "t_lap_M3_s = (theta_rad / psi_dot_M3_radps) + (d_m / v_cruise_M3_mps)\n",
    "\n",
    "t_lap_M3_s"
   ]
  },
  {
   "cell_type": "code",
   "execution_count": 34,
   "metadata": {},
   "outputs": [
    {
     "data": {
      "text/latex": [
       "$\\displaystyle \\frac{2.0 AR E_{max} \\eta_{prop}}{b^{2} \\rho_{cruise} \\left(v^{M3}_{cruise}\\right)^{3} \\left(\\frac{d}{v^{M3}_{cruise}} + \\frac{0.101971621297793 \\theta v^{M3}_{cruise}}{\\sqrt{A_{n}^{2} - 1}}\\right) \\left(cd_{nonwing} + cd_{wing} + \\frac{0.318309886183791 \\left(C_L^{cruise}\\right)^{2}}{AR e}\\right)}$"
      ],
      "text/plain": [
       "2.0*AR*E_max*\\eta_{prop}/(b**2*rho_cruise*v^{M3}_{cruise}**3*(d/v^{M3}_{cruise} + 0.101971621297793*theta*v^{M3}_{cruise}/sqrt(A_n**2 - 1))*(cd_nonwing + cd_wing + 0.318309886183791*C_L^{cruise}**2/(AR*e)))"
      ]
     },
     "execution_count": 34,
     "metadata": {},
     "output_type": "execute_result"
    }
   ],
   "source": [
    "n_laps = Endurance / t_lap_M3_s\n",
    "n_laps"
   ]
  },
  {
   "cell_type": "code",
   "execution_count": 35,
   "metadata": {},
   "outputs": [
    {
     "data": {
      "text/plain": [
       "{AR,\n",
       " A_n,\n",
       " C_L^{cruise},\n",
       " E_max,\n",
       " \\eta_{prop},\n",
       " b,\n",
       " cd_nonwing,\n",
       " cd_wing,\n",
       " d,\n",
       " e,\n",
       " rho_cruise,\n",
       " theta,\n",
       " v^{M3}_{cruise}}"
      ]
     },
     "execution_count": 35,
     "metadata": {},
     "output_type": "execute_result"
    }
   ],
   "source": [
    "n_laps.free_symbols"
   ]
  },
  {
   "cell_type": "code",
   "execution_count": 51,
   "metadata": {},
   "outputs": [],
   "source": [
    "all_params = {\n",
    "    # Parameters\n",
    "    \"AR\": np.arange(3, 5 + 0.5, 0.5),\n",
    "    \"A_n\": np.arange(2.5, 5 + 0.5, 0.5),\n",
    "    \"C_L^{cruise}\": np.arange(0.5, 0.8 + 0.1, 0.1),\n",
    "    \"b\": np.arange(1, 1.5 + 0.5, 0.5),\n",
    "    \"v^{M3}_{cruise}\": np.arange(15, 25 + 2),\n",
    "    \"cd_nonwing\": np.arange(0.04, 0.07, 0.01),\n",
    "    \"cd_wing\": np.arange(0.04, 0.07, 0.01),\n",
    "    \"e\": np.arange(0.7, 0.9, 0.1),\n",
    "    \n",
    "    # Constants\n",
    "    \"rho_cruise\": [1.225],\n",
    "    \"theta\": [4 * np.pi],\n",
    "    \"d\": [610],\n",
    "    \"E_max\": [7.2e+8],\n",
    "    \"\\eta_{prop}\": [0.4]\n",
    "}"
   ]
  },
  {
   "cell_type": "code",
   "execution_count": 52,
   "metadata": {},
   "outputs": [],
   "source": [
    "from subs_generator import generate, calculate\n",
    "all_subs = generate(all_params)"
   ]
  },
  {
   "cell_type": "code",
   "execution_count": 59,
   "metadata": {},
   "outputs": [
    {
     "data": {
      "text/plain": [
       "138240"
      ]
     },
     "execution_count": 59,
     "metadata": {},
     "output_type": "execute_result"
    }
   ],
   "source": [
    "len(all_subs)"
   ]
  },
  {
   "cell_type": "code",
   "execution_count": 60,
   "metadata": {},
   "outputs": [
    {
     "name": "stdout",
     "output_type": "stream",
     "text": [
      "138239/138240\t100.00%\n",
      "Sorting...\n"
     ]
    }
   ],
   "source": [
    "all_calc = calculate(n_laps, all_subs)"
   ]
  },
  {
   "cell_type": "code",
   "execution_count": 62,
   "metadata": {},
   "outputs": [
    {
     "data": {
      "text/plain": [
       "{'AR': 5.0,\n",
       " 'A_n': 5.0,\n",
       " 'C_L^{cruise}': 0.5,\n",
       " 'b': 1.0,\n",
       " 'v^{M3}_{cruise}': 15,\n",
       " 'cd_nonwing': 0.04,\n",
       " 'cd_wing': 0.04,\n",
       " 'e': 0.8999999999999999,\n",
       " 'rho_cruise': 1.225,\n",
       " 'theta': 12.566370614359172,\n",
       " 'd': 610,\n",
       " 'E_max': 720000000.0,\n",
       " '\\\\eta_{prop}': 0.4,\n",
       " 'total': 159926.528611540}"
      ]
     },
     "execution_count": 62,
     "metadata": {},
     "output_type": "execute_result"
    }
   ],
   "source": [
    "all_calc[0] "
   ]
  },
  {
   "cell_type": "code",
   "execution_count": 63,
   "metadata": {},
   "outputs": [
    {
     "data": {
      "text/latex": [
       "$\\displaystyle 7131152.25520232$"
      ],
      "text/plain": [
       "7131152.25520232"
      ]
     },
     "execution_count": 63,
     "metadata": {},
     "output_type": "execute_result"
    }
   ],
   "source": [
    "Endurance.subs(all_calc[0])"
   ]
  },
  {
   "cell_type": "code",
   "execution_count": 64,
   "metadata": {},
   "outputs": [
    {
     "data": {
      "text/latex": [
       "$\\displaystyle 100.96545049571$"
      ],
      "text/plain": [
       "100.965450495710"
      ]
     },
     "execution_count": 64,
     "metadata": {},
     "output_type": "execute_result"
    }
   ],
   "source": [
    "P_elec_W.subs(all_calc[0])"
   ]
  },
  {
   "cell_type": "code",
   "execution_count": null,
   "metadata": {},
   "outputs": [],
   "source": []
  }
 ],
 "metadata": {
  "kernelspec": {
   "display_name": "Python 3",
   "language": "python",
   "name": "python3"
  },
  "language_info": {
   "codemirror_mode": {
    "name": "ipython",
    "version": 3
   },
   "file_extension": ".py",
   "mimetype": "text/x-python",
   "name": "python",
   "nbconvert_exporter": "python",
   "pygments_lexer": "ipython3",
   "version": "3.7.6"
  }
 },
 "nbformat": 4,
 "nbformat_minor": 4
}
