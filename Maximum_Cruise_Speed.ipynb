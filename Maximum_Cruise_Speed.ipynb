{
 "cells": [
  {
   "cell_type": "code",
   "execution_count": null,
   "metadata": {},
   "outputs": [],
   "source": [
    "import sympy as sym\n",
    "from numpy import pi\n",
    "from scipy.constants import g"
   ]
  },
  {
   "cell_type": "code",
   "execution_count": 15,
   "metadata": {},
   "outputs": [
    {
     "data": {
      "text/latex": [
       "$\\displaystyle 1.25992104989487 \\left(\\frac{\\eta_{m} \\eta_{p} \\left( P_{elec, \\  max}\\right)}{\\rho \\left(CDA_{0} + S c_{d}\\right)}\\right)^{0.333333333333333}$"
      ],
      "text/plain": [
       "1.25992104989487*(eta_m*eta_p*(P_{elec, max})/(rho*(CDA_0 + S*c_d)))**0.333333333333333"
      ]
     },
     "metadata": {},
     "output_type": "display_data"
    }
   ],
   "source": [
    "# Maximum cruise velocity\n",
    "# Assuming that cd is constant and the induced drag is negligible\n",
    "V_max_mps = sym.symbols(\"V^cruise_max\")\n",
    "P_elec_max_J = sym.symbols(\"P_{elec, max}\")\n",
    "eta_p_, eta_m_ = sym.symbols(\"eta_p eta_m\")\n",
    "W_N, rho_kgpm3, S_m2 = sym.symbols(\"W rho S\")\n",
    "CDA0_m2, CL_, cd_, AR_ = sym.symbols(\"CDA_0 C_L c_d AR\")\n",
    "\n",
    "V_max_mps = ((2 * eta_p_ * eta_m_ * P_elec_max_J)/(rho_kgpm3 * (CDA0_m2 + (S_m2 * cd_)))) ** (1/3)\n",
    "\n",
    "display(V_max_mps)"
   ]
  },
  {
   "cell_type": "code",
   "execution_count": 16,
   "metadata": {},
   "outputs": [
    {
     "data": {
      "text/latex": [
       "$\\displaystyle 19.2809096016259$"
      ],
      "text/plain": [
       "19.2809096016259"
      ]
     },
     "execution_count": 16,
     "metadata": {},
     "output_type": "execute_result"
    }
   ],
   "source": [
    "V_max_mps.subs({\n",
    "    W_N: 7.2 * g,\n",
    "    S_m2: 0.57,\n",
    "    rho_kgpm3: 1.225,\n",
    "    CDA0_m2: 0.01,\n",
    "    CL_: 0.8,\n",
    "    cd_: 0.04,\n",
    "    AR_: 4,\n",
    "    eta_m_: 0.4,\n",
    "    eta_p_: 0.4,\n",
    "    P_elec_max_J: 900\n",
    "}).evalf()"
   ]
  }
 ],
 "metadata": {
  "kernelspec": {
   "display_name": "Python 3",
   "language": "python",
   "name": "python3"
  },
  "language_info": {
   "codemirror_mode": {
    "name": "ipython",
    "version": 3
   },
   "file_extension": ".py",
   "mimetype": "text/x-python",
   "name": "python",
   "nbconvert_exporter": "python",
   "pygments_lexer": "ipython3",
   "version": "3.7.6"
  }
 },
 "nbformat": 4,
 "nbformat_minor": 4
}
